{
 "cells": [
  {
   "cell_type": "code",
   "execution_count": 10,
   "metadata": {},
   "outputs": [
    {
     "name": "stdout",
     "output_type": "stream",
     "text": [
      "Index(['num_inspection', 'evaluation', 'departement'], dtype='object')\n"
     ]
    }
   ],
   "source": [
    "import pandas as pd\n",
    "import numpy as np\n",
    "import math \n",
    "import geopandas as gpd\n",
    "import matplotlib.pyplot as plt\n",
    "\n",
    "# Charger les données\n",
    "data = pd.read_csv('dataviz_ready.csv', delimiter=';')\n",
    "\n",
    "\n",
    "# Convertir la colonne 'departement' en chaîne de caractères\n",
    "data['departement'] = data['departement'].astype(str)\n",
    "\n",
    "# Charger la carte des départements français\n",
    "map_df = gpd.read_file('https://github.com/gregoiredavid/france-geojson/raw/master/departements-version-simplifiee.geojson')\n",
    "\n",
    "# Fusionner les données avec la carte\n",
    "merged = map_df.set_index('code').join(data.set_index('departement'))\n",
    "\n",
    "# Créer la carte thermique\n",
    "fig, ax = plt.subplots(1, figsize=(10, 6))\n",
    "merged.plot(column='evaluation', cmap='coolwarm', linewidth=0.8, ax=ax, edgecolor='0.8', legend=True)\n",
    "\n",
    "plt.show()\n",
    "\n"
   ]
  }
 ],
 "metadata": {
  "kernelspec": {
   "display_name": "Python 3",
   "language": "python",
   "name": "python3"
  },
  "language_info": {
   "codemirror_mode": {
    "name": "ipython",
    "version": 3
   },
   "file_extension": ".py",
   "mimetype": "text/x-python",
   "name": "python",
   "nbconvert_exporter": "python",
   "pygments_lexer": "ipython3",
   "version": "3.10.12"
  }
 },
 "nbformat": 4,
 "nbformat_minor": 2
}
